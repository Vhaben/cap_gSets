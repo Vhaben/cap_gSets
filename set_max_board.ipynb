{
 "cells": [
  {
   "cell_type": "markdown",
   "id": "ded767f0",
   "metadata": {},
   "source": [
    "## Preliminary definitions"
   ]
  },
  {
   "cell_type": "code",
   "execution_count": 693,
   "id": "63462a1d",
   "metadata": {},
   "outputs": [],
   "source": [
    "import numpy as np\n",
    "import pandas as pd\n",
    "import scipy \n",
    "import random\n",
    "from itertools import product, permutations, combinations\n",
    "from collections import Counter"
   ]
  },
  {
   "cell_type": "code",
   "execution_count": 694,
   "id": "b3513946",
   "metadata": {},
   "outputs": [],
   "source": [
    "f=4 #number of features\n",
    "s=3 #number of cards per gset/options per feature\n",
    "n_cards=s**f #total number of cards\n",
    "\n",
    "dimensions=(s,) *f\n",
    "empty_board=np.zeros(dimensions)"
   ]
  },
  {
   "cell_type": "code",
   "execution_count": 695,
   "id": "0a7b188e",
   "metadata": {},
   "outputs": [],
   "source": [
    "def add_tuples(*tuples):\n",
    "    # Using zip to pair up the corresponding elements and sum them element-wise\n",
    "    return tuple(sum(elements) for elements in zip(*tuples))"
   ]
  },
  {
   "cell_type": "code",
   "execution_count": 696,
   "id": "8c9b947b",
   "metadata": {},
   "outputs": [],
   "source": [
    "def create_indexed_nd_array(s,f):\n",
    "    # Generate the grid of indices\n",
    "    dimensions=(s,) *f\n",
    "    grid = np.indices(dimensions)\n",
    "    \n",
    "    # Combine the indices into a single array with the desired shape\n",
    "    # Transpose the grid to get the correct shape and then reshape\n",
    "    indexed_array = np.moveaxis(grid, 0, -1)\n",
    "    \n",
    "    return indexed_array"
   ]
  },
  {
   "cell_type": "markdown",
   "id": "fecfe200",
   "metadata": {},
   "source": [
    "### Random card generator"
   ]
  },
  {
   "cell_type": "code",
   "execution_count": 697,
   "id": "854fa1a0",
   "metadata": {},
   "outputs": [],
   "source": [
    "def card_gen(s,f):\n",
    "    return tuple(random.randrange(s) for _ in range(f))"
   ]
  },
  {
   "cell_type": "markdown",
   "id": "38586f5e",
   "metadata": {},
   "source": [
    "### All the cards"
   ]
  },
  {
   "cell_type": "code",
   "execution_count": 698,
   "id": "f11d7d9b",
   "metadata": {},
   "outputs": [],
   "source": [
    "def all_cards(s,f):\n",
    "    return list(product(*map(range, [s]*f)))\n",
    "\n",
    "# all_cards(s,f)"
   ]
  },
  {
   "cell_type": "markdown",
   "id": "be8145c6",
   "metadata": {},
   "source": [
    "### List of cards <--> filled board"
   ]
  },
  {
   "cell_type": "code",
   "execution_count": 699,
   "id": "1e76ee15",
   "metadata": {},
   "outputs": [],
   "source": [
    "def board_to_cards(board):\n",
    "    # Input: np.array for board of ones (cards on the board) and zeros (cards not on the board)\n",
    "    # Returns list of vectors of cards (tuples)\n",
    "    card_inds=np.column_stack(np.where(board == 1)).tolist()\n",
    "    card_inds=[tuple(_) for _ in card_inds]\n",
    "    return card_inds\n",
    "\n",
    "def cards_to_board(cards,s):\n",
    "    # Input: list of vectors (tuples of coordinates) of cards; number of cards per gset \n",
    "    f=len(cards[0]) # Number of features determined from dimensionality of vectors\n",
    "    # Returns \n",
    "    dimensions=(s,) *f\n",
    "    board=np.zeros(dimensions)\n",
    "    for card in cards:\n",
    "        board[card] = 1\n",
    "    return board\n",
    "\n",
    "# a=np.asarray([[0,1,0,1,1],[1,1,1,1,1]])\n",
    "# board_to_cards(a)\n",
    "# cards_to_board([(1,1)],3)"
   ]
  },
  {
   "cell_type": "markdown",
   "id": "fac60548",
   "metadata": {},
   "source": [
    "### Whether group of cards is a gset"
   ]
  },
  {
   "cell_type": "code",
   "execution_count": 700,
   "id": "8068f88a",
   "metadata": {},
   "outputs": [],
   "source": [
    "def a_gset(hand):\n",
    "    s=len(hand)\n",
    "    f=len(hand[0])\n",
    "    for feat in range(f):\n",
    "        diff_feats=len(set([hand[card][feat] for card in range(s)])) # Number of differing features\n",
    "        if diff_feats!=1 and diff_feats!=s:\n",
    "            return False\n",
    "    return True\n"
   ]
  },
  {
   "cell_type": "markdown",
   "id": "f322920c",
   "metadata": {},
   "source": [
    "## All gsets"
   ]
  },
  {
   "cell_type": "code",
   "execution_count": 701,
   "id": "9a218f77",
   "metadata": {
    "scrolled": true
   },
   "outputs": [],
   "source": [
    "def gsets(s,f):\n",
    "    dimensions=(s,) *f\n",
    "    board_indices=create_indexed_nd_array(s,f)\n",
    "    all_gsets=set()\n",
    "    all_gsets_ls=[]\n",
    "    \n",
    "    # Generate all permutations of indices\n",
    "    all_permutations = [list(permutations(range(s))) for i in range(f) ] \n",
    "    permuted_arrays = []\n",
    "\n",
    "    # Generate all directions/lines that define gsets\n",
    "    direcs=list(product(*map(range, [2]*f)))\n",
    "    direcs=direcs[1:] #Remove 0,0,0,0 (no movement)\n",
    "    n_direcs=len(direcs)\n",
    "\n",
    "    origin=(0,) * f\n",
    "    \n",
    "    # Create all possible combinations of these permutations\n",
    "    for perm_comb in product(*all_permutations):\n",
    "        slices = tuple(np.ix_(*perm_comb))\n",
    "        permuted_arr = board_indices[slices]\n",
    "        permuted_arrays.append(permuted_arr)\n",
    "\n",
    "        # Create gset for this permuted board for each direction/line\n",
    "        for direc in direcs:\n",
    "            gset=[tuple(permuted_arr[origin])]\n",
    "            card=add_tuples(origin,direc)\n",
    "#             print(card)\n",
    "#             print(permuted_arr)\n",
    "            for i in range(1,s):\n",
    "                gset.append(tuple(permuted_arr[card]))\n",
    "                card=add_tuples(card,direc)\n",
    "            gset.sort()\n",
    "            gset=tuple(gset)\n",
    "            all_gsets.add(gset)\n",
    "            all_gsets_ls.append(gset)\n",
    "    \n",
    "    return all_gsets,all_gsets_ls\n",
    "\n",
    "# gsets(3,2)[0]"
   ]
  },
  {
   "cell_type": "code",
   "execution_count": 702,
   "id": "0c58a255",
   "metadata": {
    "scrolled": true
   },
   "outputs": [],
   "source": [
    "# Ignore\n",
    "\n",
    "def permute_nd_array(arr):\n",
    "    # Generate all permutations for each dimension\n",
    "    dimensions = arr.shape\n",
    "    all_permutations = [list(permutations(range(dim))) for dim in dimensions]\n",
    "\n",
    "    permuted_arrays = []\n",
    "    # Create all possible combinations of these permutations\n",
    "    for perm_comb in product(*all_permutations):\n",
    "        slices = tuple(np.ix_(*perm_comb))\n",
    "        permuted_arr = arr[slices]\n",
    "        permuted_arrays.append(permuted_arr)\n",
    "    return permuted_arrays\n",
    "\n",
    "# Example usage\n",
    "arr_3d = np.array([[[1, 2,3], [4, 5,6],[7,8, 9]], [[10,11, 12],[13,14, 15],[16,17, 18]]])"
   ]
  },
  {
   "cell_type": "markdown",
   "id": "c2bb3043",
   "metadata": {},
   "source": [
    "### All gsets with a given card"
   ]
  },
  {
   "cell_type": "code",
   "execution_count": 703,
   "id": "8432e4b5",
   "metadata": {},
   "outputs": [],
   "source": [
    "# Inefficient solution: use gsets function and select the gsets containing the specified card\n",
    "\n",
    "def cards_gsets(card,s,f):\n",
    "    # Input: card as tuple; number of cards per gset/options per feature; number of features\n",
    "    all_gsets=gsets(s,f)[0]\n",
    "    gsets_w_card=[gset for gset in all_gsets if card in gset]\n",
    "    return gsets_w_card\n",
    "\n",
    "# cards_gsets((0,0,0,0), 3,4)"
   ]
  },
  {
   "cell_type": "markdown",
   "id": "431a5cb9",
   "metadata": {},
   "source": [
    "### All gsets in a board"
   ]
  },
  {
   "cell_type": "code",
   "execution_count": 706,
   "id": "a98b855f",
   "metadata": {},
   "outputs": [],
   "source": [
    "def gsets_board(board):\n",
    "    played_cards=board_to_cards(board)\n",
    "    f=board.ndim\n",
    "    s=len(board)\n",
    "    possible_gs=[tuple(sorted(list(_))) for _ in combinations(played_cards, s)]\n",
    "    all_gs=list(gsets(s,f)[0])\n",
    "    gs_in=[_ for _ in possible_gs if _ in all_gs]\n",
    "    return gs_in"
   ]
  },
  {
   "cell_type": "markdown",
   "id": "a9801950",
   "metadata": {},
   "source": [
    "## Gameplay: add a card until a gset"
   ]
  },
  {
   "cell_type": "code",
   "execution_count": null,
   "id": "b6f21df0",
   "metadata": {},
   "outputs": [],
   "source": [
    "def until_gset(s,f):\n",
    "#     dimensions=(s,) *f\n",
    "#     empty_board=np.zeros(dimensions)\n",
    "#     board_indices=create_indexed_nd_array(s,f)\n",
    "    all_card=all_cards(s,f)\n",
    "    random.shuffle(all_card)\n",
    "    \n",
    "    all_gs=list(gsets(s,f)[0])\n",
    "    \n",
    "#     # Dictionary map: key 1 if on the board; 0.5 if not but when placed would yield a gset; 0 if not and wouldn't\n",
    "#     # yield a gset\n",
    "#     carded={}\n",
    "#     for card in all_card:\n",
    "#         carded[card]=0\n",
    "    \n",
    "#     # Counter map: inverse of carded dictionary; maps 1, 0.5, and 0 to relevant cards\n",
    "#     counter_cards=Counter()\n",
    "#     counter_cards[0]=all_card\n",
    "\n",
    "    n_cards=s**f\n",
    "    for i in range(n_cards-s):\n",
    "        played_cards=all_card[:s+i]\n",
    "        possible_gs=[tuple(sorted(list(_))) for _ in combinations(played_cards, s)]\n",
    "        \n",
    "        n=len(possible_gs)\n",
    "        j=0\n",
    "        print(i)\n",
    "        while j<n:\n",
    "            if possible_gs[j] in all_gs:\n",
    "                return i+s\n",
    "            j+=1\n",
    "# until_gset(s,f)"
   ]
  },
  {
   "cell_type": "markdown",
   "id": "709dbd1a",
   "metadata": {},
   "source": [
    "## Data analysis"
   ]
  },
  {
   "cell_type": "markdown",
   "id": "b1c3793a",
   "metadata": {},
   "source": [
    "### Number of played cards until a gset"
   ]
  },
  {
   "cell_type": "code",
   "execution_count": null,
   "id": "2cc852df",
   "metadata": {},
   "outputs": [],
   "source": [
    "import matplotlib.pyplot as plt"
   ]
  },
  {
   "cell_type": "code",
   "execution_count": null,
   "id": "0bd4660d",
   "metadata": {
    "scrolled": false
   },
   "outputs": [],
   "source": [
    "# Inefficient solution: finds all cards and all gsets for all n iterations\n",
    "def count_cards(n,s,f):\n",
    "    # Input: number of runs of game; number of cards per gset/options per feature; number of features\n",
    "    count_dict=Counter()\n",
    "    for i in range(n):\n",
    "        count_dict[until_gset(s,f)]+=1\n",
    "        print(i) #Disable\n",
    "    return count_dict"
   ]
  },
  {
   "cell_type": "code",
   "execution_count": null,
   "id": "de30528f",
   "metadata": {},
   "outputs": [],
   "source": [
    "# More efficient: just reshuffles the deck \n",
    "def run_to_count(n,s,f):\n",
    "#     dimensions=(s,) *f\n",
    "#     empty_board=np.zeros(dimensions)\n",
    "#     board_indices=create_indexed_nd_array(s,f)\n",
    "    all_card=all_cards(s,f)\n",
    "    all_gs=list(gsets(s,f)[0])\n",
    "    \n",
    "#     # Dictionary map: key 1 if on the board; 0.5 if not but when placed would yield a gset; 0 if not and wouldn't\n",
    "#     # yield a gset\n",
    "#     carded={}\n",
    "#     for card in all_card:\n",
    "#         carded[card]=0\n",
    "    \n",
    "#     # Counter map: inverse of carded dictionary; maps 1, 0.5, and 0 to relevant cards\n",
    "#     counter_cards=Counter()\n",
    "#     counter_cards[0]=all_card\n",
    "    count_dict=Counter()\n",
    "    n_cards=s**f\n",
    "    for go in range(n):\n",
    "        random.shuffle(all_card)\n",
    "        i=0\n",
    "        print(go)\n",
    "        while i<n_cards-s:\n",
    "            played_cards=all_card[:s+i]\n",
    "            possible_gs=[tuple(sorted(list(_))) for _ in combinations(played_cards, 3)]\n",
    "\n",
    "            n_pos=len(possible_gs)\n",
    "            j=0\n",
    "            while j<n_pos:\n",
    "                if possible_gs[j] in all_gs:\n",
    "                    count_dict[i+s]+=1\n",
    "                    j=n_pos\n",
    "                    i=n_cards\n",
    "                j+=1\n",
    "            i+=1\n",
    "    return count_dict"
   ]
  },
  {
   "cell_type": "code",
   "execution_count": null,
   "id": "a9ad41b2",
   "metadata": {
    "scrolled": false
   },
   "outputs": [],
   "source": [
    "n_tries=1000\n",
    "# n_counter=count_cards(n_tries,s,f)\n",
    "n_counter=run_to_count(n_tries,s,f)"
   ]
  },
  {
   "cell_type": "code",
   "execution_count": null,
   "id": "aad69ae1",
   "metadata": {},
   "outputs": [],
   "source": [
    "df = pd.DataFrame.from_dict(n_counter,orient='index')\n",
    "# df.plot(kind='bar', legend=False)\n",
    "df.sort_index(inplace=True)\n",
    "  \n",
    "plt.hist(n_counter)\n",
    "plt.xlabel(\"Number of cards until first gset\")\n",
    "plt.ylabel(\"Counts\")\n",
    "plt.show()\n",
    "# df\n",
    "\n",
    "# plt.bar(indexes, values, width)\n",
    "# plt.xticks(indexes + width * 0.5, labels)\n",
    "# plt.show()"
   ]
  }
 ],
 "metadata": {
  "kernelspec": {
   "display_name": "Python 3 (ipykernel)",
   "language": "python",
   "name": "python3"
  },
  "language_info": {
   "codemirror_mode": {
    "name": "ipython",
    "version": 3
   },
   "file_extension": ".py",
   "mimetype": "text/x-python",
   "name": "python",
   "nbconvert_exporter": "python",
   "pygments_lexer": "ipython3",
   "version": "3.9.13"
  }
 },
 "nbformat": 4,
 "nbformat_minor": 5
}
